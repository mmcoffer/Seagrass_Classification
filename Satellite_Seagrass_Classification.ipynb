{
 "cells": [
  {
   "cell_type": "markdown",
   "id": "308c967e",
   "metadata": {},
   "source": [
    "# This code will enable you to classify a satellite scene usinging Deep Convolutional Neural Network machine learning"
   ]
  },
  {
   "cell_type": "markdown",
   "id": "6fa46500",
   "metadata": {},
   "source": [
    "## You will first need to draw polygon shapefiles for Regions of Interest (ROIs) in QGIS and export the shapefile\n",
    "\n",
    "\n"
   ]
  },
  {
   "cell_type": "markdown",
   "id": "b375a26e",
   "metadata": {},
   "source": [
    "## Download and install GDAL (only needs to be done once)"
   ]
  },
  {
   "cell_type": "code",
   "execution_count": null,
   "id": "7967db47",
   "metadata": {},
   "outputs": [],
   "source": [
    "# you will only need to run this line once to determine the version of Python you have to then go download GDAL\n",
    "# use this link to download the GDAL wheel file for your Python version and Windows Operating Version\n",
    "# you do not need to run this Box of code if you have a Mac or Linux\n",
    "# see instructions for more details\n",
    "import sys\n",
    "print(sys.version)"
   ]
  },
  {
   "cell_type": "code",
   "execution_count": null,
   "id": "7fc9a4e7",
   "metadata": {},
   "outputs": [],
   "source": [
    "# Everyone will need to run this line once, even if you have a Windows, Mac, or Linux\n",
    "# Install the GDAL Wheel File\n",
    "# update this file path to reflect where you are storing the GDAL file\n",
    "\n",
    "!pip install \"C:/Users/fishr/Satellite Seagrass/Python_library/GDAL-3.4.3-cp311-cp311-win_amd64.whl\""
   ]
  },
  {
   "cell_type": "markdown",
   "id": "dc8bec3e",
   "metadata": {},
   "source": [
    "# Import Libraries"
   ]
  },
  {
   "cell_type": "code",
   "execution_count": null,
   "id": "b53c526f",
   "metadata": {},
   "outputs": [],
   "source": [
    "import os\n",
    "import sys"
   ]
  },
  {
   "cell_type": "markdown",
   "id": "c7326233",
   "metadata": {},
   "source": [
    "# Define File Path Working Dirctory and Satellite Scene Name"
   ]
  },
  {
   "cell_type": "code",
   "execution_count": null,
   "id": "84630f63",
   "metadata": {},
   "outputs": [],
   "source": [
    "#define all necessary input variables\n",
    "\n",
    "# define the EPSG code as a character string\n",
    "# use the following link to change the EPSG code if you will work in a different region https://spatialreference.org/ref/epsg/\n",
    "# EPSG code is a standardized numerical identifier for coordinate systems and spatial reference systems \n",
    "# used to locate geographic entities on the Earth's surface. \n",
    "# The EPSG code uniquely identifies a particular coordinate reference system (CRS), \n",
    "# which includes definitions for coordinate axes, units of measurement, and transformations from one CRS to another.\n",
    "\n",
    "epsg_code = \"EPSG:32651\"\n",
    "\n",
    "# set path directory where your data are kept\n",
    "path = \"C:/Users/fishr/Satellite Seagrass/\"\n",
    "\n",
    "# name of the Satellite file you will be processing\n",
    "sat_file = \"Masinloc_20230620_014002_99_24cc_3B_AnalyticMS_SR_8b_clip\"\n",
    "\n",
    "wdir = os.path.join(path, sat_file)"
   ]
  },
  {
   "cell_type": "code",
   "execution_count": null,
   "id": "82680aca",
   "metadata": {},
   "outputs": [],
   "source": [
    "# import seagrass library file which contains many Python code functions that this code depends on\n",
    "# this seagrass_lib.py file should be stored in a sub-folder called \"Python_library\" which is in the folder path defined above\n",
    "\n",
    "library_dir = os.path.join(path, \"Python_library\")\n",
    "sys.path.insert(0, library_dir)\n",
    "from seagrass_lib import *"
   ]
  },
  {
   "cell_type": "code",
   "execution_count": null,
   "id": "103cb0fb",
   "metadata": {},
   "outputs": [],
   "source": [
    "# increase cache size to avoid memory constraints\n",
    "from osgeo import gdal\n",
    "gdal.SetCacheMax(2000000000)"
   ]
  },
  {
   "cell_type": "markdown",
   "id": "1d24db7c",
   "metadata": {},
   "source": [
    "# Import your Shapefile from QGIS"
   ]
  },
  {
   "cell_type": "code",
   "execution_count": null,
   "id": "d0d8dde5",
   "metadata": {
    "scrolled": true
   },
   "outputs": [],
   "source": [
    "# Open the shapefile that is stored in an ROIs subfolder under the Input_data subfolder, which is in your working directory\n",
    "input_shp = os.path.join(wdir, \"Input_data\", \"ROIs\",  sat_file + \".shp\")\n",
    "\n",
    "shapefile = gpd.read_file(input_shp)\n",
    "\n",
    "# Display the first few rows of the attribute table to see what the Classification ID name caterogies for your shapefile are\n",
    "# these should reflect the different categories you drew in QGIS\n",
    "\n",
    "print(shapefile.head())\n",
    "\n",
    "# Get the column names\n",
    "column_names = shapefile.columns\n",
    "\n",
    "# Print the column names\n",
    "print(column_names)"
   ]
  },
  {
   "cell_type": "code",
   "execution_count": null,
   "id": "9a7df858",
   "metadata": {},
   "outputs": [],
   "source": [
    "# Rename the first column of the shapefile to \"Classname\"\n",
    "shapefile = shapefile.rename(columns={shapefile.columns[0]: \"Classname\"})\n",
    "print(shapefile.head())\n",
    "\n",
    "# View unique values in ID column\n",
    "unique_values = shapefile[\"Classname\"].unique()\n",
    "\n",
    "# prints all of the categories we are trying to classify\n",
    "print(unique_values)"
   ]
  },
  {
   "cell_type": "code",
   "execution_count": null,
   "id": "788e3646",
   "metadata": {},
   "outputs": [],
   "source": [
    "# Define output file for newly renamed shapefile\n",
    "output_shapefile_path = os.path.join(wdir, \"Input_data\", \"ROIs\",  sat_file + \".shp\")\n",
    "\n",
    "shapefile.to_file(output_shapefile_path)"
   ]
  },
  {
   "cell_type": "code",
   "execution_count": null,
   "id": "b5a0f096",
   "metadata": {},
   "outputs": [],
   "source": [
    "# Now you will split multipart polygon into singlepart polygon, but first\n",
    "# define where you will save the new singlepart polygon output\n",
    "output_shp = os.path.join(wdir, \"Input_data\", \"ROIs\", sat_file + \"_singlepart.shp\") \n",
    "\n",
    "# Split multipart polygon into singlepart polygon\n",
    "multipart_to_singlepart(shp_fp = input_shp, out_fp = output_shp)"
   ]
  },
  {
   "cell_type": "markdown",
   "id": "d1eb2852",
   "metadata": {},
   "source": [
    "# Load your Satellite Scene"
   ]
  },
  {
   "cell_type": "code",
   "execution_count": null,
   "id": "00b7c58f",
   "metadata": {},
   "outputs": [],
   "source": [
    "satellite_scene = gdal.Open(os.path.join(wdir, 'Input_data', 'Rrs_image', sat_file + \".TIF\"))\n",
    "\n",
    "# see how many bands satellite scene has\n",
    "if satellite_scene is not None: \n",
    "    print (\"band count: \" + str(satellite_scene.RasterCount))\n",
    "\n",
    "band_num = satellite_scene.RasterCount"
   ]
  },
  {
   "cell_type": "code",
   "execution_count": null,
   "id": "f262cd5d",
   "metadata": {},
   "outputs": [],
   "source": [
    "# Open and View original satellite image\n",
    "satellite_scene = os.path.join(wdir, 'Input_data', 'Rrs_image', sat_file + \".TIF\")\n",
    "  \n",
    "# Open the image file\n",
    "with rio.open(satellite_scene) as src:\n",
    "    # NIR (8), red (6), and green (4), blue (2) bands for Planet\n",
    "    image = src.read([6, 4, 2])\n",
    "\n",
    "# Plot the false-color composite\n",
    "plt.imshow(image.transpose(1, 2, 0))\n",
    "plt.title('False-Color Composite (Red-Green-Blue)')\n",
    "plt.show()"
   ]
  },
  {
   "cell_type": "code",
   "execution_count": null,
   "id": "8234d867",
   "metadata": {},
   "outputs": [],
   "source": [
    "# View each band of the satellite scene\n",
    "satellite_scene = os.path.join(wdir, 'Input_data', 'Rrs_image', sat_file + \".TIF\")\n",
    "\n",
    "with rio.open(satellite_scene) as src:\n",
    "    # Read all bands\n",
    "     image = src.read(list(range(1, band_num+1)))\n",
    "\n",
    "# Plot each band separately\n",
    "fig, axes = plt.subplots(1, band_num, figsize=(20, 15))\n",
    "for i in range(band_num):\n",
    "    im = axes[i].imshow(image[i], cmap='gist_earth')\n",
    "    axes[i].set_title(f'Band {i+1}')\n",
    "\n",
    "# Add color bar after the last subplot\n",
    "cbar = fig.colorbar(im, ax=axes[-1], orientation='vertical', fraction=0.05, pad=0.04)\n",
    "cbar.set_label('Reflectance')  # Add label to the color bar\n",
    "\n",
    "plt.tight_layout()  # Adjust layout to prevent overlapping\n",
    "plt.show()"
   ]
  },
  {
   "cell_type": "markdown",
   "id": "7eaea511",
   "metadata": {
    "scrolled": true
   },
   "source": [
    "# Now Extract Category ROIs from Satellite Scene using Singlepart Polygons"
   ]
  },
  {
   "cell_type": "code",
   "execution_count": null,
   "id": "e2aefddd",
   "metadata": {},
   "outputs": [],
   "source": [
    "# re-define the satellite scen you are working with\n",
    "input_image = satellite_scene\n",
    "\n",
    "# define the shapefile to be the singlepart shapefile you created above\n",
    "input_shp = os.path.join(wdir, \"Input_data\", \"ROIs\", sat_file + \"_singlepart.shp\") \n",
    "\n",
    "# pick a place to save the new output tiffs, it should be in the ROI subfolder\n",
    "output_ROIs = os.path.join(wdir, \"Input_data\", \"ROIs\")"
   ]
  },
  {
   "cell_type": "code",
   "execution_count": null,
   "id": "4f147ebc",
   "metadata": {},
   "outputs": [],
   "source": [
    "# Display the first few rows of the attribute table to see what the ID name caterogies for your shapefile are\n",
    "# these should reflect the different categories you drew in QGIS\n",
    "\n",
    "singlepart_shapefile = gpd.read_file(input_shp)\n",
    "print(singlepart_shapefile.head())\n",
    "\n",
    "# View unique values in ID column\n",
    "unique_values = singlepart_shapefile[\"Classname\"].unique()\n",
    "\n",
    "# prints all of the categories we are trying to classify\n",
    "print(unique_values)"
   ]
  },
  {
   "cell_type": "code",
   "execution_count": null,
   "id": "be912ce5",
   "metadata": {},
   "outputs": [],
   "source": [
    "# extract the image spectra for each category ROI drawn in QGIS and save to the location you defined above\n",
    "shp_to_roi(image_fp = input_image, output_dir = output_ROIs, shp_fp = input_shp, field_name = 'Classname')\n"
   ]
  },
  {
   "cell_type": "markdown",
   "id": "ed1d7fa2",
   "metadata": {},
   "source": [
    "# Train DCNN with Image ROIs"
   ]
  },
  {
   "cell_type": "code",
   "execution_count": null,
   "id": "d0af4283",
   "metadata": {},
   "outputs": [],
   "source": [
    "#creat a folder to store the DCNN model, saved as a .h5 file\n",
    "dcnn_fp = os.path.join(wdir, \"Input_data\", \"DCNN_model\", sat_file + \".h5\")\n",
    "\n",
    "#input data for the training are the tiffs of each ROI we extracted above\n",
    "input_data = os.path.join(wdir, 'Input_data', 'ROIs') \n",
    "\n",
    "#Run the training code\n",
    "image_classes = roi_classes(shp_fp = input_shp, field_name = 'Classname')"
   ]
  },
  {
   "cell_type": "code",
   "execution_count": null,
   "id": "07097dab",
   "metadata": {
    "scrolled": true
   },
   "outputs": [],
   "source": [
    "train_dcnn(cnnFileName = dcnn_fp, epochs = 50 , training_data_directory = input_data, class_names = image_classes, numChannels = band_num, dimension = 3)"
   ]
  },
  {
   "cell_type": "code",
   "execution_count": null,
   "id": "98763ce5",
   "metadata": {},
   "outputs": [],
   "source": [
    "#View Accuracy and Loss Plots\n",
    "\n",
    "#The accuracy plot shows how well the model is performing in terms of correctly classifying the data.\n",
    "# displays the training accuracy and validation accuracy over epochs (or iterations).\n",
    "# The training accuracy measures the accuracy of the model on the training dataset, \n",
    "# while the validation accuracy measures the accuracy on a separate validation dataset.\n",
    "# A rising trend in both training and validation accuracy indicates that the model is learning and generalizing well.\n",
    "# Fluctuations or a decrease in validation accuracy relative to training accuracy may suggest overfitting, \n",
    "# where the model performs well on the training data but fails to generalize to unseen data.\n",
    "\n",
    "\n",
    "# The loss plot shows the value of the loss function (e.g., cross-entropy loss) over epochs.\n",
    "# quantifies how well the model is performing. \n",
    "# A measure of the model's error or how far the predicted outputs are from the true labels.\n",
    "# A decreasing trend in both training and validation loss indicates that the model is improving in its predictions \n",
    "# and learning the underlying patterns in the data.\n",
    "# If the training loss decreases while the validation loss increases or remains stagnant, it may indicate overfitting.\n",
    "\n",
    "from IPython.display import Image, display\n",
    "\n",
    "accuracy_path = os.path.join(wdir, \"Input_data\", \"DCNN_model\", \"accuracy.png\")\n",
    "loss_path = os.path.join(wdir, \"Input_data\", \"DCNN_model\", \"loss.png\")\n",
    "\n",
    "# List of paths to your PNG files\n",
    "image_paths = [accuracy_path, loss_path]\n",
    "\n",
    "# Display each image\n",
    "for i in image_paths:\n",
    "    display(Image(i))\n"
   ]
  },
  {
   "cell_type": "markdown",
   "id": "9b53ce70",
   "metadata": {},
   "source": [
    "# Classify input image with trained dcnn"
   ]
  },
  {
   "cell_type": "code",
   "execution_count": null,
   "id": "91504018",
   "metadata": {},
   "outputs": [],
   "source": [
    "# re-define satellite scene you are working with\n",
    "input_image = satellite_scene\n",
    "\n",
    "# make a string name to save the new classified image under\n",
    "classified_scene = 'classified_'+ sat_file\n",
    "\n",
    "# define where you will save the classfied image output\n",
    "output_classification = os.path.join(wdir, \"Classified_image\", classified_scene + \".TIF\")\n",
    "\n",
    "# define where you saved the trained DCNN .h5 model from above\n",
    "dcnn_fp = os.path.join(wdir, \"Input_data\", \"DCNN_model\", sat_file + \".h5\")\n"
   ]
  },
  {
   "cell_type": "code",
   "execution_count": null,
   "id": "d3aeadf0",
   "metadata": {},
   "outputs": [],
   "source": [
    "# Run the classification\n",
    "dcnn_classification(image_fp = input_image, dcnn_fp = dcnn_fp, output_fp = output_classification)"
   ]
  },
  {
   "cell_type": "markdown",
   "id": "ce669ef2",
   "metadata": {},
   "source": [
    "# Open and View the Classified Satellite Image"
   ]
  },
  {
   "cell_type": "code",
   "execution_count": null,
   "id": "8a4d47a8",
   "metadata": {},
   "outputs": [],
   "source": [
    "# open the classified satellite scene\n",
    "Classification = os.path.join(wdir, \"Classified_image\", classified_scene + \".TIF\")"
   ]
  },
  {
   "cell_type": "code",
   "execution_count": null,
   "id": "8af5697b",
   "metadata": {},
   "outputs": [],
   "source": [
    "# Open the classified satellite scene raster dataset using rioxarray\n",
    "raster = rioxarray.open_rasterio(Classification)\n",
    "\n",
    "# Plot the raster\n",
    "raster.plot()\n",
    "plt.title('Classified Satellite Scene')\n",
    "plt.show()\n"
   ]
  },
  {
   "cell_type": "code",
   "execution_count": null,
   "id": "69a1ecb0",
   "metadata": {},
   "outputs": [],
   "source": [
    "# Check to see how many categories of classifications there are\n",
    "\n",
    "# Open the GeoTIFF file\n",
    "with rio.open(Classification) as src:\n",
    "    # Read the single band\n",
    "    band = src.read(1)\n",
    "\n",
    "    # Get unique values and their counts\n",
    "    unique_values, counts = np.unique(band, return_counts=True)\n",
    "\n",
    "    # Print unique values and their counts\n",
    "    for value, count in zip(unique_values, counts):\n",
    "        print(f\"Value: {value}, Count: {count}\")"
   ]
  },
  {
   "cell_type": "code",
   "execution_count": null,
   "id": "80cf9221",
   "metadata": {},
   "outputs": [],
   "source": [
    "# Open the classified satellite GeoTIFF file and plot it in a different way\n",
    "# viewing the classified satellite scene will be better in QGIS, but this is a quick way to see if the classification worked\n",
    "\n",
    "with rio.open(Classification) as src:\n",
    "    data = src.read(1)\n",
    "    \n",
    "    # Get unique values and their counts\n",
    "    unique_values, counts = np.unique(data, return_counts=True)\n",
    "\n",
    "    # Print unique values and their counts\n",
    "    for value, count in zip(unique_values, counts):\n",
    "        print(f\"Value: {value}, Count: {count}\")\n",
    "    \n",
    "    cmap = ListedColormap(['black','green', 'gray','brown','yellow','blue'])  # Modify colors as needed\n",
    "    bounds = [0, 1, 2, 3, 4, 5]  # Modify class boundaries as needed\n",
    "\n",
    "    # Plot the data\n",
    "    plt.figure(figsize=(8, 8))\n",
    "    plt.imshow(data, cmap=cmap, extent=[src.bounds.left, src.bounds.right, src.bounds.bottom, src.bounds.top])\n",
    "\n",
    "    # Add color legend\n",
    "    cb = plt.colorbar(ticks=bounds, boundaries=bounds)\n",
    "    cb.set_label('Classifications')\n",
    "\n",
    "    plt.show()"
   ]
  },
  {
   "cell_type": "markdown",
   "id": "38fa6f34",
   "metadata": {},
   "source": [
    "# Calculate the area of seagrass cover in the satellite scene"
   ]
  },
  {
   "cell_type": "code",
   "execution_count": null,
   "id": "dc5922c6",
   "metadata": {},
   "outputs": [],
   "source": [
    "# Open the GeoTIFF file of the Classified Satellite Scene\n",
    "# you will need to go manually inspect the classified satellite scene, either here in Jupyter Notebook, \n",
    "# or open the scene in QGIS \n",
    "# to see which number corresponds to seagrass, open water, land, submerged sand, turbid water, and NA \n",
    "# these numbers can unforutnately change each time you run the code\n",
    "\n",
    "# from visual inspection, it looks like Class 1 is seagrass\n",
    "# 0 is Unknown\n",
    "# 1 is Seagrass\n",
    "# 2 is Land\n",
    "# 3 is Turbid Water\n",
    "# 4 is Submerged Sand\n",
    "# 5 is Open Water\n",
    "\n",
    "with rio.open(Classification) as src:\n",
    "    # Read the single band\n",
    "    band = src.read(1)\n",
    "\n",
    "    # Get unique values and their counts\n",
    "    unique_values, counts = np.unique(band, return_counts=True)\n",
    "    print(unique_values)\n",
    "\n",
    "  # Initialize variables for each class count\n",
    "    Unknown = 0\n",
    "    Land = 0\n",
    "    Turbid_water = 0\n",
    "    Sand = 0\n",
    "    Seagrass = 0\n",
    "    Open_water = 0\n",
    "\n",
    "    # Assign counts to respective variables\n",
    "    # the order number can change\n",
    "    for value, count in zip(unique_values, counts):\n",
    "        if value == 0:\n",
    "            Unknown = count\n",
    "        if value == 1:\n",
    "            Seagrass = count\n",
    "        elif value == 2:\n",
    "            Land = count\n",
    "        elif value == 3:\n",
    "            Turbid_water = count\n",
    "        elif value == 4:\n",
    "            Sand = count\n",
    "        elif value == 5:\n",
    "            Open_water = count\n",
    "\n",
    "\n",
    "# Print class counts\n",
    "print(\"Unknown count:\", Unknown)\n",
    "print(\"Land count:\", Land)\n",
    "print(\"Turbid Water count:\", Turbid_water)\n",
    "print(\"Submerged Sand count:\", Sand)\n",
    "print(\"Seagrass count:\", Seagrass)\n",
    "print(\"Open Water count:\", Open_water)"
   ]
  },
  {
   "cell_type": "code",
   "execution_count": null,
   "id": "33cf54df",
   "metadata": {},
   "outputs": [],
   "source": [
    "square_meters_seagrass = Seagrass*9\n",
    "km2_seagrass = (square_meters_seagrass / 1000000)\n",
    "\n",
    "print(\"Seagrass Area in square kilometers:\", km2_seagrass, \"km²\")\n"
   ]
  },
  {
   "cell_type": "markdown",
   "id": "5b05b603",
   "metadata": {},
   "source": [
    "# Optional: Apply Land Mask to the Classified Satellite Scene"
   ]
  },
  {
   "cell_type": "code",
   "execution_count": null,
   "id": "d8e2e649",
   "metadata": {},
   "outputs": [],
   "source": [
    "# Read the land shapefile\n",
    "Land_shapefile = gpd.read_file(os.path.join(path, \"Land_shapefile\", 'Philippines_boundary.shp'))"
   ]
  },
  {
   "cell_type": "code",
   "execution_count": null,
   "id": "8f38434f",
   "metadata": {},
   "outputs": [],
   "source": [
    "# Plot the shapefile to visualize it\n",
    "Land_shapefile.plot()\n",
    "plt.title('National Shapefile')\n",
    "plt.xlabel('Longitude')\n",
    "plt.ylabel('Latitude')\n",
    "plt.show()\n",
    "\n",
    "# Open the raster dataset using rioxarray\n",
    "raster = rioxarray.open_rasterio(Classification)\n",
    "\n",
    "# Plot the raster\n",
    "raster.plot()\n",
    "plt.title('Classified Raster')\n",
    "plt.show()\n",
    "\n",
    "# Check the CRS of both the raster and the shapefile\n",
    "print(\"Raster CRS:\", raster.rio.crs)\n",
    "print(\"Shapefile CRS:\", Land_shapefile.crs)"
   ]
  },
  {
   "cell_type": "code",
   "execution_count": null,
   "id": "290196c2",
   "metadata": {},
   "outputs": [],
   "source": [
    "# Mask the Satellite Scene using the land shapefile and save it as a GeoTIFF\n",
    "masked_raster = raster.rio.clip(Land_shapefile.geometry.apply(mapping), crs=Land_shapefile.crs, invert=True)\n",
    "\n",
    "# Plot the masked raster\n",
    "masked_raster.plot()\n",
    "plt.title('Masked Classified Satellite Scene')\n",
    "plt.show()\n",
    "\n",
    "# Specify the output file path\n",
    "output_folder = os.path.join(wdir, \"Classified_image\")\n",
    "# make a string name to save the new classified image with land mask\n",
    "masked_scene = 'masked_'+ classified_scene\n",
    "output_file = os.path.join(output_folder, masked_scene + '.TIF')\n",
    "\n",
    "# Save the masked raster as GeoTIFF\n",
    "masked_raster.rio.to_raster(output_file)"
   ]
  },
  {
   "cell_type": "code",
   "execution_count": null,
   "id": "ff72d008",
   "metadata": {},
   "outputs": [],
   "source": [
    "#Open and view the classified satellite scene with the land mask applied\n",
    "\n",
    "Masked_scene = os.path.join(wdir, \"Classified_image\", masked_scene + '.TIF')\n",
    "\n",
    "# Open the GeoTIFF file\n",
    "with rio.open(Masked_scene) as src:\n",
    "    data = src.read(1)\n",
    "    cmap = ListedColormap(['gray', 'red', 'yellow','brown','green','blue'])  # Modify colors as needed\n",
    "    bounds = [0, 1, 2, 3, 4, 5, 6 ]  # Modify class boundaries as needed\n",
    "\n",
    "    # Plot the data\n",
    "    plt.figure(figsize=(8, 8))\n",
    "    plt.imshow(data, cmap=cmap, extent=[src.bounds.left, src.bounds.right, src.bounds.bottom, src.bounds.top])\n",
    "\n",
    "    # Add color legend\n",
    "    cb = plt.colorbar(ticks=bounds, boundaries=bounds)\n",
    "    cb.set_label('Classifications')\n",
    "\n",
    "    plt.show()"
   ]
  },
  {
   "cell_type": "markdown",
   "id": "2450e2fd",
   "metadata": {},
   "source": [
    "# Statistical Assesment"
   ]
  },
  {
   "cell_type": "code",
   "execution_count": null,
   "id": "2963b009",
   "metadata": {},
   "outputs": [],
   "source": [
    "# Read in USAID reference data\n",
    "usaid = gpd.read_file(os.path.join(path, \"Field_data\",\"USAID field data shapefile\", 'Philippines_Seagrass.shp'))"
   ]
  },
  {
   "cell_type": "code",
   "execution_count": null,
   "id": "ead5e414",
   "metadata": {},
   "outputs": [],
   "source": [
    "# Print the attribute table\n",
    "usaid.head()"
   ]
  },
  {
   "cell_type": "code",
   "execution_count": null,
   "id": "d767c32c",
   "metadata": {},
   "outputs": [],
   "source": [
    "# Check the unique values in the column you want to use for classification\n",
    "unique_values = usaid['id'].unique()\n",
    "print(unique_values)"
   ]
  },
  {
   "cell_type": "code",
   "execution_count": null,
   "id": "b4b13b6d",
   "metadata": {},
   "outputs": [],
   "source": [
    "# Plot the shapefile to visualize it\n",
    "# Create a new figure and axis with the desired figsize\n",
    "fig, ax = plt.subplots(figsize=(10, 8))\n",
    "\n",
    "# Plot the shapefile with adjusted linewidth\n",
    "usaid.plot(ax=ax, color = 'red')  # Adjust the linewidth as needed\n",
    "\n",
    "plt.title('National Seagrass/Seaweed USAID Shapefile')\n",
    "plt.xlabel('Longitude')\n",
    "plt.ylabel('Latitude')\n",
    "plt.show()"
   ]
  },
  {
   "cell_type": "code",
   "execution_count": null,
   "id": "c89004c0",
   "metadata": {},
   "outputs": [],
   "source": [
    "# Read in satellite classification data\n",
    "\n",
    "# make a string name to save the new classified image under\n",
    "classified_scene = 'classified_'+ sat_file\n",
    "\n",
    "# open the classified satellite scene\n",
    "Classification = os.path.join(wdir, \"Classified_image\", classified_scene + \".TIF\")\n",
    "\n",
    "with rio.open(Classification) as src:\n",
    "    sat_classification = src.read(1)  # Read the first band, assuming it's the classified image\n",
    "    sat_classification_meta = src.meta\n",
    "    sat_classification_crs = src.crs\n",
    "    \n",
    "print(\"Satellite CRS:\", sat_classification_crs)\n",
    "print(\"Shapefile CRS:\", usaid.crs)"
   ]
  },
  {
   "cell_type": "code",
   "execution_count": null,
   "id": "82bb4a50",
   "metadata": {},
   "outputs": [],
   "source": [
    "# Plot the satellite classification raster\n",
    "plt.figure(figsize=(10, 10))\n",
    "plt.imshow(sat_classification, cmap='viridis')\n",
    "cbar = plt.colorbar(label='Classifications', shrink=0.8)  # Adjust shrink parameter\n",
    "plt.show()\n"
   ]
  },
  {
   "cell_type": "code",
   "execution_count": null,
   "id": "997ba705",
   "metadata": {},
   "outputs": [],
   "source": [
    "# Reproject the shapefile to the same coordinate system as the satellite image and \n",
    "# crop it to the extent of the satellite image\n",
    "# and plot the shapefile on top of the satellite image\n",
    "\n",
    "# Open the raster image\n",
    "with rio.open(Classification) as src:\n",
    "    sat_classification = src.read(1)  # Read the first band, assuming it's the classified image\n",
    "    sat_classification_extent = [src.bounds.left, src.bounds.right, src.bounds.bottom, src.bounds.top]  # Get the extent of the raster\n",
    "    sat_classification_meta = src.meta\n",
    "    sat_classification_crs = src.crs\n",
    "    \n",
    "# Create a bounding box geometry from the raster bounds\n",
    "bbox = box(*src.bounds)\n",
    "\n",
    "# Open the shapefile\n",
    "usaid_shapefile_path = os.path.join(path, \"Field_data\", \"USAID field data shapefile\", 'Philippines_Seagrass.shp')\n",
    "with fiona.open(usaid_shapefile_path, \"r\") as shapefile:\n",
    "    \n",
    "    # Read the CRS of the shapefile\n",
    "    shapefile_crs = shapefile.crs\n",
    "    # Reproject the shapefile to match the CRS of the raster\n",
    "    if sat_classification_crs != shapefile_crs:\n",
    "        reprojected_shapefile = [fiona.transform.transform_geom(shapefile_crs, sat_classification_crs, feature[\"geometry\"]) for feature in shapefile]\n",
    "    else:\n",
    "        reprojected_shapefile = shapefile\n",
    "        \n",
    "    # Crop the shapefile to the extent of the raster\n",
    "    cropped_geoms = []\n",
    "    cropped_attributes = []\n",
    "    for feature in reprojected_shapefile:\n",
    "        feature_geom = shape(feature[\"geometry\"])\n",
    "        intersection = feature_geom.intersection(bbox)\n",
    "        if not intersection.is_empty:\n",
    "            if intersection.geom_type == 'MultiPolygon':\n",
    "                for geom in intersection:\n",
    "                    cropped_geoms.append(geom)\n",
    "                    cropped_attributes.append(feature[\"properties\"])  # Retain the attributes\n",
    "            else:\n",
    "                cropped_geoms.append(intersection)\n",
    "                cropped_attributes.append(feature[\"properties\"])  # Retain the attributes\n",
    "\n",
    "# Combine all the cropped geometries into a single MultiPolygon\n",
    "cropped_multi_polygon = unary_union(cropped_geoms)\n",
    "\n",
    "# Convert the MultiPolygon and attributes to a GeoDataFrame\n",
    "usaid_cropped = gpd.GeoDataFrame(geometry=[cropped_multi_polygon] * len(cropped_attributes), data=cropped_attributes)\n",
    "\n",
    "# Check the unique values in the 'ID' column\n",
    "unique_ids = usaid_cropped['id'].unique()\n",
    "print(unique_ids)\n",
    "\n",
    "\n",
    "# Plot the raster image \n",
    "plt.figure(figsize=(10, 10))\n",
    "\n",
    "plt.imshow(sat_classification, extent=sat_classification_extent, cmap='viridis', aspect='equal')\n",
    "cbar = plt.colorbar(label='Classifications', shrink=0.8)  # Adjust shrink parameter of colorbar\n",
    "\n",
    "\n",
    "# Plot the cropped shapefile on top of the raster\n",
    "usaid_cropped.plot(ax=plt.gca(), facecolor='none', edgecolor='red', linewidth=1.5)\n",
    "\n",
    "# Create custom legend handles and labels\n",
    "legend_handles = [plt.Line2D([0], [0], marker='_', color='r', linewidth=1, label='USAID Shapefile')]\n",
    "legend_labels = ['USAID Shapefile']\n",
    "\n",
    "# Add legend with custom handles and labels\n",
    "plt.legend(handles=legend_handles, labels=legend_labels)\n",
    "\n",
    "plt.show()\n"
   ]
  },
  {
   "cell_type": "code",
   "execution_count": null,
   "id": "e68e09f3",
   "metadata": {},
   "outputs": [],
   "source": [
    "# View the usaid cropped shapefile to make sure it cropped properly and retained its attributes and ID\n",
    "# Check the unique values in the 'id' column\n",
    "unique_values = usaid_cropped['id'].unique()\n",
    "print(unique_values)\n",
    "\n",
    "usaid_cropped.head()\n"
   ]
  },
  {
   "cell_type": "code",
   "execution_count": null,
   "id": "ee7f005a",
   "metadata": {},
   "outputs": [],
   "source": [
    "# Reclassify satellite results to match the categories used in the USAID data\n",
    "# You'll need to define your reclassification rules based on the categories used in the USAID data\n",
    "# For simplicity, let's assume the categories are \"Land\", \"No_data\", \"Submerged_sand\", \"Deep_water\", and \"Seagrass\"\n",
    "\n",
    "# from visual inspection, it looks like Class 1 is seagrass\n",
    "# 0 is Unknown\n",
    "# 1 is Seagrass\n",
    "# 2 is Land\n",
    "# 3 is Turbid Water\n",
    "# 4 is Submerged Sand\n",
    "# 5 is Open Water\n",
    "\n",
    "\n",
    "sat_reclass = np.copy(sat_classification) # get the classification numbers from the satellite scene\n",
    "\n",
    "# Convert the array to a signed integer type\n",
    "sat_reclass = sat_reclass.astype(np.int16)\n",
    "\n",
    "# Set \"Unknown\", \"Land\", and \"Turbid_water\" to NaN\n",
    "sat_reclass[(sat_reclass == 0) | (sat_reclass == 2)| (sat_reclass == 3)] = -9999  \n",
    "\n",
    "# Set \"Submerged_sand\" and \"Deep_water\" to 100\n",
    "sat_reclass[(sat_reclass == 4) | (sat_reclass == 5)] = 100  \n",
    "\n",
    "# Set Seagrass to 200\n",
    "sat_reclass[sat_reclass == 1] = 200\n"
   ]
  },
  {
   "cell_type": "code",
   "execution_count": null,
   "id": "593ab0f8",
   "metadata": {},
   "outputs": [],
   "source": [
    "# Rasterize the shapefile \n",
    "# Define raster dimensions and resolution based on the classification raster\n",
    "width = sat_classification_meta['width']\n",
    "height = sat_classification_meta['height']\n",
    "transform = sat_classification_meta['transform']\n",
    "dtype = sat_classification.dtype\n",
    "\n",
    "# Define the rasterized ID values (2 to 200, and all others to 100)\n",
    "values = [(200 if id_val == 2 else 100) for id_val in usaid_cropped['id']]\n",
    "\n",
    "# Rasterize the GeoDataFrame into a new raster\n",
    "usaid_rasterized = rasterize(\n",
    "    [(geom, val) for geom, val in zip(usaid_cropped.geometry, values)],\n",
    "    out_shape=(height, width),\n",
    "    transform=transform,\n",
    "    fill=100,\n",
    "    dtype=dtype,\n",
    ")\n",
    "\n",
    "# Plot the rasterized result\n",
    "plt.figure(figsize=(10, 10))\n",
    "plt.imshow(usaid_rasterized, cmap='viridis', extent=sat_classification_extent)\n",
    "plt.colorbar(label='Rasterized Values', shrink=0.8)\n",
    "plt.title('Rasterized USAID Result')\n",
    "plt.show()\n",
    "\n",
    "# Look for unique values in usaid raster\n",
    "unique_values = np.unique(usaid_rasterized)\n",
    "print(\"Unique raster values:\", unique_values)\n"
   ]
  },
  {
   "cell_type": "code",
   "execution_count": null,
   "id": "82624211",
   "metadata": {},
   "outputs": [],
   "source": [
    "# Flatten arrays for confusion matrix calculation\n",
    "sat_flat = sat_reclass.flatten()\n",
    "usaid_cropped_rast_flat = usaid_rasterized.flatten()"
   ]
  },
  {
   "cell_type": "code",
   "execution_count": null,
   "id": "bac10386",
   "metadata": {},
   "outputs": [],
   "source": [
    "np.unique(usaid_cropped_rast_flat)"
   ]
  },
  {
   "cell_type": "code",
   "execution_count": null,
   "id": "08256b74",
   "metadata": {},
   "outputs": [],
   "source": [
    "np.unique(sat_flat)"
   ]
  },
  {
   "cell_type": "code",
   "execution_count": null,
   "id": "9b8448f7",
   "metadata": {},
   "outputs": [],
   "source": [
    "# Calculate confusion matrix\n",
    "\n",
    "# Define the actual predictions and true labels\n",
    "# \"True data\" or \"Field data\" should come first, so that is the usaid_cropped_rast_flat data\n",
    "# \"Predicted data\" comes second, that is from the satellite classification sat_flat\n",
    "# true_labels = usaid_cropped_rast_flat\n",
    "# predicted_labels = sat_flat\n",
    "\n",
    "# Create a confusion matrix\n",
    "# Labels are specified to ensure the order in the confusion matrix\n",
    "# For example, 200 represent \"Seagrass\" and 100 represent \"Non-seagrass\"\n",
    "\n",
    "cm = confusion_matrix(usaid_cropped_rast_flat, sat_flat, labels=[100, 200])\n",
    "\n",
    "print(cm)"
   ]
  },
  {
   "cell_type": "code",
   "execution_count": null,
   "id": "84f280ad",
   "metadata": {},
   "outputs": [],
   "source": [
    "# Create a confusion matrix with the actual predictions and true labels\n",
    "# Define the actual predictions and true labels\n",
    "# \"True data\" or \"Field data\" should come first, so that is the usaid_cropped_rast_flat data\n",
    "# \"Predicted data\" comes second, that is from the satellite classification sat_flat\n",
    "# true_labels = usaid_cropped_rast_flat\n",
    "# predicted_labels = sat_flat\n",
    "\n",
    "# Create a confusion matrix\n",
    "# Labels are specified to ensure the order in the confusion matrix\n",
    "# For example, 200 represent \"Seagrass\" and 100 represent \"Non-seagrass\"\n",
    "cm = confusion_matrix(usaid_cropped_rast_flat, sat_flat, labels=[200, 100]) \n",
    "\n",
    "# Plot the confusion matrix as a heatmap\n",
    "plt.figure(figsize=(8, 6))\n",
    "sns.heatmap(cm, cmap='Blues', annot=True, fmt='d', xticklabels=['Seagrass', 'Non-Seagrass'], yticklabels=['Seagrass', 'Non-Seagrass'])\n",
    "\n",
    "# Add annotations manually\n",
    "for i in range(len(cm)):\n",
    "    for j in range(len(cm)):\n",
    "        plt.text(j + 0.5, i + 0.5, str(cm[i, j]), ha='center', va='center', color='red')\n",
    "\n",
    "plt.title('Confusion Matrix', fontsize=20 )\n",
    "plt.xlabel('Predicted Labels', fontsize=16)\n",
    "plt.ylabel('True Labels', fontsize=16)\n",
    "\n",
    "plt.show()"
   ]
  },
  {
   "cell_type": "code",
   "execution_count": null,
   "id": "4d4877d3",
   "metadata": {},
   "outputs": [],
   "source": [
    "True_positive = cm[0,0]\n",
    "True_positive"
   ]
  },
  {
   "cell_type": "code",
   "execution_count": null,
   "id": "29e91c00",
   "metadata": {},
   "outputs": [],
   "source": [
    "False_positive = cm[1,0]\n",
    "False_positive"
   ]
  },
  {
   "cell_type": "code",
   "execution_count": null,
   "id": "966df1c9",
   "metadata": {},
   "outputs": [],
   "source": [
    "False_negative = cm[0,1]\n",
    "False_negative"
   ]
  },
  {
   "cell_type": "code",
   "execution_count": null,
   "id": "4d3e91e7",
   "metadata": {},
   "outputs": [],
   "source": [
    "True_negative = cm[1,1]\n",
    "True_negative"
   ]
  },
  {
   "cell_type": "code",
   "execution_count": null,
   "id": "f3906796",
   "metadata": {},
   "outputs": [],
   "source": [
    "sensitivity = (True_positive/(True_positive + False_negative))\n",
    "print(\"Sesitivity = \", sensitivity)"
   ]
  },
  {
   "cell_type": "code",
   "execution_count": null,
   "id": "c08f60aa",
   "metadata": {},
   "outputs": [],
   "source": [
    "specificity = (True_negative/(True_negative + False_positive))\n",
    "print(\"Specificity = \", specificity)"
   ]
  },
  {
   "cell_type": "code",
   "execution_count": null,
   "id": "18c0b3d5",
   "metadata": {},
   "outputs": [],
   "source": [
    "balanced_agreement = ((sensitivity+specificity)/2)\n",
    "print(\"Balanced Agreement = \", balanced_agreement)"
   ]
  }
 ],
 "metadata": {
  "kernelspec": {
   "display_name": "Python 3 (ipykernel)",
   "language": "python",
   "name": "python3"
  },
  "language_info": {
   "codemirror_mode": {
    "name": "ipython",
    "version": 3
   },
   "file_extension": ".py",
   "mimetype": "text/x-python",
   "name": "python",
   "nbconvert_exporter": "python",
   "pygments_lexer": "ipython3",
   "version": "3.11.5"
  }
 },
 "nbformat": 4,
 "nbformat_minor": 5
}
