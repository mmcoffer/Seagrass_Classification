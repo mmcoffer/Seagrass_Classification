{
 "cells": [
  {
   "cell_type": "markdown",
   "id": "1bfe6e6a",
   "metadata": {},
   "source": [
    "# This code will enable you to classify a satellite scene usinging Deep Convolutional Neural Network machine learning"
   ]
  },
  {
   "cell_type": "markdown",
   "id": "c94e65aa",
   "metadata": {},
   "source": [
    "## You will first need to draw polygon shapefiles for Regions of Interest (ROIs) in QGIS and export the shapefile\n",
    "\n",
    "\n"
   ]
  },
  {
   "cell_type": "markdown",
   "id": "2a1e4d55",
   "metadata": {},
   "source": [
    "# Install Packages"
   ]
  },
  {
   "cell_type": "code",
   "execution_count": null,
   "id": "a67752b5",
   "metadata": {},
   "outputs": [],
   "source": [
    "!pip install pandas\n",
    "!pip install datetime\n",
    "!pip install numpy\n",
    "!pip install tensorflow\n",
    "!pip install keras\n",
    "!pip install h5py\n",
    "!pip install matplotlib\n",
    "!pip install scikit-learn  \n",
    "!pip install geopandas\n",
    "!pip install earthpy\n",
    "!pip install spectral\n",
    "!pip install rasterio\n",
    "!pip install rioxarray\n",
    "!pip install shapely\n",
    "!pip install plotly\n",
    "!pip install fiona\n",
    "!pip install seaborn"
   ]
  },
  {
   "cell_type": "markdown",
   "id": "b375a26e",
   "metadata": {},
   "source": [
    "## Download and install GDAL (only needs to be done once)"
   ]
  },
  {
   "cell_type": "code",
   "execution_count": null,
   "id": "7306a596",
   "metadata": {},
   "outputs": [],
   "source": [
    "# you will only need to run this line once to determine the version of Python you have to then go download GDAL\n",
    "# use this link to download the GDAL wheel file for your Python version and Windows Operating Version\n",
    "# you do not need to run this Box of code if you have a Mac or Linux\n",
    "# see instructions for more details\n",
    "import sys\n",
    "print(sys.version)"
   ]
  },
  {
   "cell_type": "code",
   "execution_count": null,
   "id": "822731cb",
   "metadata": {},
   "outputs": [],
   "source": [
    "# Everyone will need to run this line once, even if you have a Windows, Mac, or Linux\n",
    "# Install the GDAL Wheel File\n",
    "# update this file path to reflect where you are storing the GDAL file\n",
    "\n",
    "!pip install \"C:/Users/fishr/Satellite Seagrass/Python_library/GDAL-3.4.3-cp311-cp311-win_amd64.whl\""
   ]
  },
  {
   "cell_type": "markdown",
   "id": "db92557f",
   "metadata": {},
   "source": [
    "# Import Libraries"
   ]
  },
  {
   "cell_type": "code",
   "execution_count": 1,
   "id": "b53c526f",
   "metadata": {},
   "outputs": [],
   "source": [
    "import os\n",
    "import sys"
   ]
  },
  {
   "cell_type": "markdown",
   "id": "f1baec25",
   "metadata": {},
   "source": [
    "# Define File Path Working Dirctory and Satellite Scene Name"
   ]
  },
  {
   "cell_type": "code",
   "execution_count": 2,
   "id": "84630f63",
   "metadata": {},
   "outputs": [],
   "source": [
    "#define all necessary input variables\n",
    "\n",
    "# define the EPSG code as a character string\n",
    "# use the following link to change the EPSG code if you will work in a different region https://spatialreference.org/ref/epsg/\n",
    "# EPSG code is a standardized numerical identifier for coordinate systems and spatial reference systems \n",
    "# used to locate geographic entities on the Earth's surface. \n",
    "# The EPSG code uniquely identifies a particular coordinate reference system (CRS), \n",
    "# which includes definitions for coordinate axes, units of measurement, and transformations from one CRS to another.\n",
    "\n",
    "epsg_code = \"EPSG:2264\" #this is EPSG for North Carolina\n",
    "\n",
    "# set path directory where your data are kept\n",
    "path = \"C:/Users/fishr/Satellite Seagrass/\"\n",
    "\n",
    "# name of the Satellite file you will be processing\n",
    "sat_file = \"Back_Sound_WV2_20130327\"\n",
    "\n",
    "wdir = os.path.join(path, sat_file)"
   ]
  },
  {
   "cell_type": "code",
   "execution_count": 3,
   "id": "82680aca",
   "metadata": {},
   "outputs": [
    {
     "name": "stdout",
     "output_type": "stream",
     "text": [
      "WARNING:tensorflow:From C:\\Users\\fishr\\anaconda3\\Lib\\site-packages\\keras\\src\\losses.py:2976: The name tf.losses.sparse_softmax_cross_entropy is deprecated. Please use tf.compat.v1.losses.sparse_softmax_cross_entropy instead.\n",
      "\n"
     ]
    }
   ],
   "source": [
    "# import seagrass library file which contains many Python code functions that this code depends on\n",
    "# this seagrass_lib.py file should be stored in a sub-folder called \"Python_library\" which is in the folder path defined above\n",
    "\n",
    "library_dir = os.path.join(path, \"Python_library\")\n",
    "sys.path.insert(0, library_dir)\n",
    "from seagrass_lib import *"
   ]
  },
  {
   "cell_type": "code",
   "execution_count": null,
   "id": "103cb0fb",
   "metadata": {},
   "outputs": [],
   "source": [
    "# increase cache size to avoid memory constraints\n",
    "from osgeo import gdal\n",
    "gdal.SetCacheMax(2000000000)"
   ]
  },
  {
   "cell_type": "markdown",
   "id": "5a99b120",
   "metadata": {},
   "source": [
    "# Import your Shapefile"
   ]
  },
  {
   "cell_type": "code",
   "execution_count": null,
   "id": "d0d8dde5",
   "metadata": {
    "scrolled": true
   },
   "outputs": [],
   "source": [
    "# Open the shapefile that is stored in an ROIs subfolder under the Input_data subfolder, which is in your working directory\n",
    "input_shp = os.path.join(wdir, \"Input_data\", \"ROIs\",  sat_file + \".shp\")\n",
    "\n",
    "shapefile = gpd.read_file(input_shp)\n",
    "\n",
    "# Display the first few rows of the attribute table to see what the Classification ID name caterogies for your shapefile are\n",
    "# these should reflect the different categories you drew in QGIS\n",
    "\n",
    "print(shapefile.head())\n",
    "\n",
    "# Get the column names\n",
    "column_names = shapefile.columns\n",
    "\n",
    "# Print the column names\n",
    "print(column_names)"
   ]
  },
  {
   "cell_type": "code",
   "execution_count": null,
   "id": "d24f22ca",
   "metadata": {},
   "outputs": [],
   "source": [
    "# Rename the first column of the shapefile to \"Classname\"\n",
    "shapefile = shapefile.rename(columns={shapefile.columns[0]: \"Classname\"})\n",
    "print(shapefile.head())\n",
    "\n",
    "# View unique values in ID column\n",
    "unique_values = shapefile[\"Classname\"].unique()\n",
    "\n",
    "# prints all of the categories we are trying to classify\n",
    "print(unique_values)"
   ]
  },
  {
   "cell_type": "code",
   "execution_count": null,
   "id": "0d2b9cb9",
   "metadata": {},
   "outputs": [],
   "source": [
    "# Define output file for newly renamed shapefile\n",
    "output_shapefile_path = os.path.join(wdir, \"Input_data\", \"ROIs\",  sat_file + \".shp\")\n",
    "\n",
    "shapefile.to_file(output_shapefile_path)"
   ]
  },
  {
   "cell_type": "code",
   "execution_count": null,
   "id": "b5a0f096",
   "metadata": {},
   "outputs": [],
   "source": [
    "# Now you will split multipart polygon into singlepart polygon, but first\n",
    "# define where you will save the new singlepart polygon output\n",
    "output_shp = os.path.join(wdir, \"Input_data\", \"ROIs\", sat_file + \"_singlepart.shp\") \n",
    "\n",
    "# Split multipart polygon into singlepart polygon\n",
    "multipart_to_singlepart(shp_fp = input_shp, out_fp = output_shp)"
   ]
  },
  {
   "cell_type": "markdown",
   "id": "ae961926",
   "metadata": {},
   "source": [
    "# Load your Satellite Scene"
   ]
  },
  {
   "cell_type": "code",
   "execution_count": null,
   "id": "e8a74119",
   "metadata": {},
   "outputs": [],
   "source": [
    "satellite_scene = gdal.Open(os.path.join(wdir, 'Input_data', 'Rrs_image', sat_file + \".TIF\"))\n",
    "\n",
    "# see how many bands satellite scene has\n",
    "if satellite_scene is not None: \n",
    "    print (\"band count: \" + str(satellite_scene.RasterCount))\n",
    "\n",
    "band_num = satellite_scene.RasterCount"
   ]
  },
  {
   "cell_type": "code",
   "execution_count": null,
   "id": "f262cd5d",
   "metadata": {},
   "outputs": [],
   "source": [
    "# Open and View original satellite image\n",
    "satellite_scene = os.path.join(wdir, 'Input_data', 'Rrs_image', sat_file + \".TIF\")\n",
    "  \n",
    "# Open the image file\n",
    "with rio.open(satellite_scene) as src:\n",
    "    # NIR (8), red (6), and green (3), blue (2) bands for Planet\n",
    "    image = src.read([6, 3, 2])\n",
    "\n",
    "# Plot the false-color composite\n",
    "plt.imshow(image.transpose(1, 2, 0))\n",
    "plt.title('False-Color Composite (Red-Green-Blue)')\n",
    "plt.show()"
   ]
  },
  {
   "cell_type": "code",
   "execution_count": null,
   "id": "972da097",
   "metadata": {},
   "outputs": [],
   "source": [
    "# View each band of the satellite scene\n",
    "satellite_scene = os.path.join(wdir, 'Input_data', 'Rrs_image', sat_file + \".TIF\")\n",
    "\n",
    "with rio.open(satellite_scene) as src:\n",
    "    # Read all bands\n",
    "     image = src.read([1, 2, 3, 4, 5, 6, 7, 8])\n",
    "\n",
    "# Plot each band separately\n",
    "fig, axes = plt.subplots(1, 8, figsize=(20, 15))\n",
    "for i in range(band_num):\n",
    "    im = axes[i].imshow(image[i], cmap='gist_earth')\n",
    "    axes[i].set_title(f'Band {i+1}')\n",
    "\n",
    "# Add color bar after the last subplot\n",
    "cbar = fig.colorbar(im, ax=axes[-1], orientation='vertical', fraction=0.05, pad=0.04)\n",
    "cbar.set_label('Reflectance')  # Add label to the color bar\n",
    "\n",
    "plt.tight_layout()  # Adjust layout to prevent overlapping\n",
    "plt.show()"
   ]
  },
  {
   "cell_type": "markdown",
   "id": "08f3b054",
   "metadata": {
    "scrolled": true
   },
   "source": [
    "# Now Extract Category ROIs from Satellite Scene using Singlepart Polygons"
   ]
  },
  {
   "cell_type": "code",
   "execution_count": null,
   "id": "cd5703a9",
   "metadata": {},
   "outputs": [],
   "source": [
    "# re-define the satellite scen you are working with\n",
    "input_image = satellite_scene\n",
    "\n",
    "# define the shapefile to be the singlepart shapefile you created above\n",
    "input_shp = os.path.join(wdir, \"Input_data\", \"ROIs\", sat_file + \"_singlepart.shp\") \n",
    "\n",
    "# pick a place to save the new output tiffs, it should be in the ROI subfolder\n",
    "output_ROIs = os.path.join(wdir, \"Input_data\", \"ROIs\")"
   ]
  },
  {
   "cell_type": "code",
   "execution_count": null,
   "id": "4f147ebc",
   "metadata": {},
   "outputs": [],
   "source": [
    "# Display the first few rows of the attribute table to see what the ID name caterogies for your shapefile are\n",
    "# these should reflect the different categories you drew in QGIS\n",
    "\n",
    "singlepart_shapefile = gpd.read_file(input_shp)\n",
    "print(singlepart_shapefile.head())\n",
    "\n",
    "# View unique values in ID column\n",
    "unique_values = singlepart_shapefile[\"Classname\"].unique()\n",
    "\n",
    "# prints all of the categories we are trying to classify\n",
    "print(unique_values)"
   ]
  },
  {
   "cell_type": "code",
   "execution_count": null,
   "id": "be912ce5",
   "metadata": {},
   "outputs": [],
   "source": [
    "# extract the image spectra for each category ROI drawn in QGIS and save to the location you defined above\n",
    "shp_to_roi(image_fp = input_image, output_dir = output_ROIs, shp_fp = input_shp, field_name = 'Classname')\n"
   ]
  },
  {
   "cell_type": "markdown",
   "id": "ed1d7fa2",
   "metadata": {},
   "source": [
    "# Train DCNN with Image ROIs"
   ]
  },
  {
   "cell_type": "code",
   "execution_count": null,
   "id": "d0af4283",
   "metadata": {},
   "outputs": [],
   "source": [
    "#creat a folder to store the DCNN model, saved as a .h5 file\n",
    "dcnn_fp = os.path.join(wdir, \"Input_data\", \"DCNN_model\", sat_file + \".h5\")\n",
    "\n",
    "#input data for the training are the tiffs of each ROI we extracted above\n",
    "input_data = os.path.join(wdir, 'Input_data', 'ROIs') \n",
    "\n",
    "#Run the training code\n",
    "image_classes = roi_classes(shp_fp = input_shp, field_name = 'Classname')"
   ]
  },
  {
   "cell_type": "code",
   "execution_count": null,
   "id": "07097dab",
   "metadata": {
    "scrolled": true
   },
   "outputs": [],
   "source": [
    "train_dcnn(cnnFileName = dcnn_fp, epochs = 100 , training_data_directory = input_data, class_names = image_classes, numChannels = band_num, dimension = 3)"
   ]
  },
  {
   "cell_type": "code",
   "execution_count": null,
   "id": "98763ce5",
   "metadata": {},
   "outputs": [],
   "source": [
    "#View Accuracy and Loss Plots\n",
    "\n",
    "#The accuracy plot shows how well the model is performing in terms of correctly classifying the data.\n",
    "# displays the training accuracy and validation accuracy over epochs (or iterations).\n",
    "# The training accuracy measures the accuracy of the model on the training dataset, \n",
    "# while the validation accuracy measures the accuracy on a separate validation dataset.\n",
    "# A rising trend in both training and validation accuracy indicates that the model is learning and generalizing well.\n",
    "# Fluctuations or a decrease in validation accuracy relative to training accuracy may suggest overfitting, \n",
    "# where the model performs well on the training data but fails to generalize to unseen data.\n",
    "\n",
    "\n",
    "# The loss plot shows the value of the loss function (e.g., cross-entropy loss) over epochs.\n",
    "# quantifies how well the model is performing. \n",
    "# A measure of the model's error or how far the predicted outputs are from the true labels.\n",
    "# A decreasing trend in both training and validation loss indicates that the model is improving in its predictions \n",
    "# and learning the underlying patterns in the data.\n",
    "# If the training loss decreases while the validation loss increases or remains stagnant, it may indicate overfitting.\n",
    "\n",
    "from IPython.display import Image, display\n",
    "\n",
    "accuracy_path = os.path.join(wdir, \"Input_data\", \"DCNN_model\", \"accuracy.png\")\n",
    "loss_path = os.path.join(wdir, \"Input_data\", \"DCNN_model\", \"loss.png\")\n",
    "\n",
    "# List of paths to your PNG files\n",
    "image_paths = [accuracy_path, loss_path]\n",
    "\n",
    "# Display each image\n",
    "for i in image_paths:\n",
    "    display(Image(i))\n"
   ]
  },
  {
   "cell_type": "markdown",
   "id": "9b53ce70",
   "metadata": {},
   "source": [
    "# Classify input image with trained dcnn"
   ]
  },
  {
   "cell_type": "code",
   "execution_count": null,
   "id": "4b4a6366",
   "metadata": {},
   "outputs": [],
   "source": [
    "# re-define satellite scene you are working with\n",
    "input_image = satellite_scene\n",
    "\n",
    "# make a string name to save the new classified image under\n",
    "classified_scene = 'classified_'+ sat_file\n",
    "\n",
    "# define where you will save the classfied image output\n",
    "output_classification = os.path.join(wdir, \"Classified_image\", classified_scene + \".TIF\")\n",
    "\n",
    "# define where you saved the trained DCNN .h5 model from above\n",
    "dcnn_fp = os.path.join(wdir, \"Input_data\", \"DCNN_model\", sat_file + \".h5\")\n"
   ]
  },
  {
   "cell_type": "code",
   "execution_count": null,
   "id": "d3aeadf0",
   "metadata": {},
   "outputs": [],
   "source": [
    "# Run the classification\n",
    "dcnn_classification(image_fp = input_image, dcnn_fp = dcnn_fp, output_fp = output_classification)"
   ]
  },
  {
   "cell_type": "markdown",
   "id": "06b91fad",
   "metadata": {},
   "source": [
    "# Open and View the Classified Satellite Image"
   ]
  },
  {
   "cell_type": "code",
   "execution_count": null,
   "id": "ec64fce2",
   "metadata": {},
   "outputs": [],
   "source": [
    "# open the classified satellite scene\n",
    "Classification = os.path.join(wdir, \"Classified_image\", classified_scene + \".TIF\")"
   ]
  },
  {
   "cell_type": "code",
   "execution_count": null,
   "id": "22994b7f",
   "metadata": {},
   "outputs": [],
   "source": [
    "# Open the classified satellite scene raster dataset using rioxarray\n",
    "raster = rioxarray.open_rasterio(Classification)\n",
    "\n",
    "# Plot the raster\n",
    "raster.plot()\n",
    "plt.title('Classified Satellite Scene')\n",
    "plt.show()\n"
   ]
  },
  {
   "cell_type": "code",
   "execution_count": null,
   "id": "fd026fae",
   "metadata": {},
   "outputs": [],
   "source": [
    "# Check to see how many categories of classifications there are\n",
    "\n",
    "# Open the GeoTIFF file\n",
    "with rio.open(Classification) as src:\n",
    "    # Read the single band\n",
    "    band = src.read(1)\n",
    "\n",
    "    # Get unique values and their counts\n",
    "    unique_values, counts = np.unique(band, return_counts=True)\n",
    "\n",
    "    # Print unique values and their counts\n",
    "    for value, count in zip(unique_values, counts):\n",
    "        print(f\"Value: {value}, Count: {count}\")"
   ]
  },
  {
   "cell_type": "code",
   "execution_count": null,
   "id": "c4ed4440",
   "metadata": {},
   "outputs": [],
   "source": [
    "# Open the classified satellite GeoTIFF file and plot it in a different way\n",
    "# viewing the classified satellite scene will be better in QGIS, but this is a quick way to see if the classification worked\n",
    "\n",
    "with rio.open(Classification) as src:\n",
    "    data = src.read(1)\n",
    "    \n",
    "    # Get unique values and their counts\n",
    "    unique_values, counts = np.unique(data, return_counts=True)\n",
    "\n",
    "    # Print unique values and their counts\n",
    "    for value, count in zip(unique_values, counts):\n",
    "        print(f\"Value: {value}, Count: {count}\")\n",
    "    \n",
    "    cmap = ListedColormap(['black','gray', 'green','brown','yellow','blue','purple'])  # Modify colors as needed\n",
    "    bounds = [0, 1, 2, 3, 4, 5,6,7]  # Modify class boundaries as needed\n",
    "\n",
    "    # Plot the data\n",
    "    plt.figure(figsize=(8, 8))\n",
    "    plt.imshow(data, cmap=cmap, extent=[src.bounds.left, src.bounds.right, src.bounds.bottom, src.bounds.top])\n",
    "\n",
    "    # Add color legend\n",
    "    cb = plt.colorbar(ticks=bounds, boundaries=bounds)\n",
    "    cb.set_label('Classifications')\n",
    "\n",
    "    plt.show()"
   ]
  },
  {
   "cell_type": "markdown",
   "id": "3f736997",
   "metadata": {},
   "source": [
    "# Calculate the area of seagrass cover in the satellite scene"
   ]
  },
  {
   "cell_type": "code",
   "execution_count": null,
   "id": "0a276eac",
   "metadata": {},
   "outputs": [],
   "source": [
    "# Open the GeoTIFF file of the Classified Satellite Scene\n",
    "# you will need to go manually inspect the classified satellite scene, either here in Jupyter Notebook, \n",
    "# or open the scene in QGIS \n",
    "# to see which number corresponds to seagrass, open water, land, submerged sand, turbid water, and NA \n",
    "# these numbers can unforutnately change each time you run the code\n",
    "\n",
    "# from visual inspection, it looks like Class 1 is seagrass\n",
    "# 0 is Unknown\n",
    "# 1 is Seagrass\n",
    "# 2 is Land\n",
    "# 3 is Turbid Water\n",
    "# 4 is Submerged Sand\n",
    "# 5 is Open Water\n",
    "\n",
    "with rio.open(Classification) as src:\n",
    "    # Read the single band\n",
    "    band = src.read(1)\n",
    "\n",
    "    # Get unique values and their counts\n",
    "    unique_values, counts = np.unique(band, return_counts=True)\n",
    "    print(unique_values)\n",
    "\n",
    "  # Initialize variables for each class count\n",
    "    Unknown = 0\n",
    "    Land = 0\n",
    "    Turbid_water = 0\n",
    "    Sand = 0\n",
    "    Seagrass = 0\n",
    "    Open_water = 0\n",
    "\n",
    "    # Assign counts to respective variables\n",
    "    # the order number can change\n",
    "    for value, count in zip(unique_values, counts):\n",
    "        if value == 0:\n",
    "            Unknown = count\n",
    "        if value == 1:\n",
    "            Seagrass = count\n",
    "        elif value == 2:\n",
    "            Land = count\n",
    "        elif value == 3:\n",
    "            Turbid_water = count\n",
    "        elif value == 4:\n",
    "            Sand = count\n",
    "        elif value == 5:\n",
    "            Open_water = count\n",
    "\n",
    "\n",
    "# Print class counts\n",
    "print(\"Unknown count:\", Unknown)\n",
    "print(\"Land count:\", Land)\n",
    "print(\"Turbid Water count:\", Turbid_water)\n",
    "print(\"Submerged Sand count:\", Sand)\n",
    "print(\"Seagrass count:\", Seagrass)\n",
    "print(\"Open Water count:\", Open_water)"
   ]
  },
  {
   "cell_type": "code",
   "execution_count": null,
   "id": "86d256c3",
   "metadata": {},
   "outputs": [],
   "source": [
    "square_meters_seagrass = Seagrass*9\n",
    "km2_seagrass = (square_meters_seagrass / 1000000)\n",
    "\n",
    "print(\"Seagrass Area in square kilometers:\", km2_seagrass, \"km²\")"
   ]
  }
 ],
 "metadata": {
  "kernelspec": {
   "display_name": "Python 3 (ipykernel)",
   "language": "python",
   "name": "python3"
  },
  "language_info": {
   "codemirror_mode": {
    "name": "ipython",
    "version": 3
   },
   "file_extension": ".py",
   "mimetype": "text/x-python",
   "name": "python",
   "nbconvert_exporter": "python",
   "pygments_lexer": "ipython3",
   "version": "3.11.5"
  }
 },
 "nbformat": 4,
 "nbformat_minor": 5
}
